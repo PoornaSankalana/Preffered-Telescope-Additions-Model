{
  "nbformat": 4,
  "nbformat_minor": 0,
  "metadata": {
    "colab": {
      "provenance": []
    },
    "kernelspec": {
      "name": "python3",
      "display_name": "Python 3"
    },
    "language_info": {
      "name": "python"
    }
  },
  "cells": [
    {
      "cell_type": "markdown",
      "source": [
        "# Model Training"
      ],
      "metadata": {
        "id": "DjIKP-DaBV8G"
      }
    },
    {
      "cell_type": "markdown",
      "source": [
        "## Data Preprocessing"
      ],
      "metadata": {
        "id": "9PN2k-KzBjv8"
      }
    },
    {
      "cell_type": "markdown",
      "source": [
        "Mounting google drive"
      ],
      "metadata": {
        "id": "pYBsdRaB6qoa"
      }
    },
    {
      "cell_type": "code",
      "source": [
        "from google.colab import drive\n",
        "drive.mount('/content/drive')"
      ],
      "metadata": {
        "colab": {
          "base_uri": "https://localhost:8080/"
        },
        "id": "FpbsUWmsv5gg",
        "outputId": "a9c3f3b4-c382-4d92-f630-0fbbd9847575"
      },
      "execution_count": 48,
      "outputs": [
        {
          "output_type": "stream",
          "name": "stdout",
          "text": [
            "Drive already mounted at /content/drive; to attempt to forcibly remount, call drive.mount(\"/content/drive\", force_remount=True).\n"
          ]
        }
      ]
    },
    {
      "cell_type": "markdown",
      "source": [
        "Importing Packages"
      ],
      "metadata": {
        "id": "Cu3ETbZg6mAN"
      }
    },
    {
      "cell_type": "code",
      "execution_count": null,
      "metadata": {
        "id": "tMS0egC4v20d"
      },
      "outputs": [],
      "source": [
        "import numpy as np\n",
        "import pandas as pd\n",
        "from sklearn.model_selection import train_test_split\n",
        "from sklearn.linear_model import LinearRegression\n",
        "from sklearn.metrics import mean_squared_error, r2_score\n",
        "import matplotlib.pyplot as plt\n",
        "import joblib"
      ]
    },
    {
      "cell_type": "markdown",
      "source": [
        "Loading Dataset"
      ],
      "metadata": {
        "id": "ESbFpVoT6xMn"
      }
    },
    {
      "cell_type": "code",
      "source": [
        "# Loading dataset\n",
        "data = pd.read_csv(\"/content/drive/MyDrive/Colab Notebooks/telescope/dataset.csv\")"
      ],
      "metadata": {
        "id": "3ReH069i1nk5"
      },
      "execution_count": 49,
      "outputs": []
    },
    {
      "cell_type": "code",
      "source": [
        "print(data)"
      ],
      "metadata": {
        "colab": {
          "base_uri": "https://localhost:8080/"
        },
        "id": "8H_rltw-14s7",
        "outputId": "455814c4-ea2a-41b2-c38d-7575b18090e8"
      },
      "execution_count": 50,
      "outputs": [
        {
          "output_type": "stream",
          "name": "stdout",
          "text": [
            "    Demand  Supply\n",
            "0       10      15\n",
            "1       19      23\n",
            "2       20      25\n",
            "3       28      32\n",
            "4       33      38\n",
            "..     ...     ...\n",
            "95      37      41\n",
            "96      44      50\n",
            "97      34      38\n",
            "98      10      14\n",
            "99      20      24\n",
            "\n",
            "[100 rows x 2 columns]\n"
          ]
        }
      ]
    },
    {
      "cell_type": "markdown",
      "source": [
        "Splitting feature and target from dataset"
      ],
      "metadata": {
        "id": "9FQyGaZD7ByE"
      }
    },
    {
      "cell_type": "code",
      "source": [
        "X = data[['Demand']]"
      ],
      "metadata": {
        "id": "rTPgtY-D1_yy"
      },
      "execution_count": 51,
      "outputs": []
    },
    {
      "cell_type": "code",
      "source": [
        "print(X)"
      ],
      "metadata": {
        "colab": {
          "base_uri": "https://localhost:8080/"
        },
        "id": "rxH9xNxp2jG4",
        "outputId": "abcd1f28-67ee-44b8-c16d-5c25e05b8246"
      },
      "execution_count": 52,
      "outputs": [
        {
          "output_type": "stream",
          "name": "stdout",
          "text": [
            "    Demand\n",
            "0       10\n",
            "1       19\n",
            "2       20\n",
            "3       28\n",
            "4       33\n",
            "..     ...\n",
            "95      37\n",
            "96      44\n",
            "97      34\n",
            "98      10\n",
            "99      20\n",
            "\n",
            "[100 rows x 1 columns]\n"
          ]
        }
      ]
    },
    {
      "cell_type": "code",
      "source": [
        "Y = data[['Supply']]"
      ],
      "metadata": {
        "id": "nn9XIrGh20yz"
      },
      "execution_count": 53,
      "outputs": []
    },
    {
      "cell_type": "code",
      "source": [
        "print(Y)"
      ],
      "metadata": {
        "colab": {
          "base_uri": "https://localhost:8080/"
        },
        "id": "CM9NjVOj27zU",
        "outputId": "66c79862-efbd-478b-9d4d-6ac33addcbe1"
      },
      "execution_count": 54,
      "outputs": [
        {
          "output_type": "stream",
          "name": "stdout",
          "text": [
            "    Supply\n",
            "0       15\n",
            "1       23\n",
            "2       25\n",
            "3       32\n",
            "4       38\n",
            "..     ...\n",
            "95      41\n",
            "96      50\n",
            "97      38\n",
            "98      14\n",
            "99      24\n",
            "\n",
            "[100 rows x 1 columns]\n"
          ]
        }
      ]
    },
    {
      "cell_type": "markdown",
      "source": [
        "Plotting dataset"
      ],
      "metadata": {
        "id": "Yu9xgvmf7JzM"
      }
    },
    {
      "cell_type": "code",
      "source": [
        "plt.scatter(X_train, y_train)\n",
        "plt.xlabel(\"Demand\")\n",
        "plt.ylabel(\"Supply\")\n",
        "plt.title(\"Demand vs. Supply\")\n",
        "plt.show()"
      ],
      "metadata": {
        "colab": {
          "base_uri": "https://localhost:8080/",
          "height": 472
        },
        "id": "SRdMF28_4WvB",
        "outputId": "7d08bd4a-18cf-4691-9ad9-e1365b50de32"
      },
      "execution_count": 57,
      "outputs": [
        {
          "output_type": "display_data",
          "data": {
            "text/plain": [
              "<Figure size 640x480 with 1 Axes>"
            ],
            "image/png": "[encoded data removed]"
          },
          "metadata": {}
        }
      ]
    },
    {
      "cell_type": "code",
      "source": [
        "X_train, X_test, y_train, y_test = train_test_split(X, Y, test_size=0.2, random_state=42)"
      ],
      "metadata": {
        "id": "6329GZE6J9H_"
      },
      "execution_count": 58,
      "outputs": []
    },
    {
      "cell_type": "code",
      "source": [
        "print(X_test);"
      ],
      "metadata": {
        "colab": {
          "base_uri": "https://localhost:8080/"
        },
        "id": "40tXMm7QdmTQ",
        "outputId": "67a87db7-8457-4515-9f5f-aecdfd449851"
      },
      "execution_count": 61,
      "outputs": [
        {
          "output_type": "stream",
          "name": "stdout",
          "text": [
            "    Demand\n",
            "83      57\n",
            "53      13\n",
            "70      40\n",
            "45      24\n",
            "44      45\n",
            "39      17\n",
            "22      23\n",
            "80      59\n",
            "10      36\n",
            "0       10\n",
            "18      25\n",
            "30      24\n",
            "73      34\n",
            "33      36\n",
            "90      60\n",
            "4       33\n",
            "76      10\n",
            "77      46\n",
            "12      53\n",
            "31      49\n"
          ]
        }
      ]
    },
    {
      "cell_type": "code",
      "source": [
        "print(y_test);"
      ],
      "metadata": {
        "colab": {
          "base_uri": "https://localhost:8080/"
        },
        "id": "ITUL99pudtMN",
        "outputId": "8481f493-1a77-41ac-f69a-c30daa6b34a0"
      },
      "execution_count": 62,
      "outputs": [
        {
          "output_type": "stream",
          "name": "stdout",
          "text": [
            "    Supply\n",
            "83      63\n",
            "53      17\n",
            "70      46\n",
            "45      29\n",
            "44      51\n",
            "39      23\n",
            "22      29\n",
            "80      64\n",
            "10      41\n",
            "0       15\n",
            "18      31\n",
            "30      28\n",
            "73      40\n",
            "33      40\n",
            "90      64\n",
            "4       38\n",
            "76      14\n",
            "77      51\n",
            "12      59\n",
            "31      55\n"
          ]
        }
      ]
    },
    {
      "cell_type": "code",
      "source": [
        "print(X_train);"
      ],
      "metadata": {
        "colab": {
          "base_uri": "https://localhost:8080/"
        },
        "id": "FoejncKUd5Uh",
        "outputId": "d9feea16-876f-4514-e817-ab262cad69bf"
      },
      "execution_count": 63,
      "outputs": [
        {
          "output_type": "stream",
          "name": "stdout",
          "text": [
            "    Demand\n",
            "55      13\n",
            "88      25\n",
            "26      47\n",
            "42      38\n",
            "69      20\n",
            "..     ...\n",
            "60      50\n",
            "71      40\n",
            "14      45\n",
            "92      28\n",
            "51      43\n",
            "\n",
            "[80 rows x 1 columns]\n"
          ]
        }
      ]
    },
    {
      "cell_type": "code",
      "source": [
        "print(y_train);"
      ],
      "metadata": {
        "colab": {
          "base_uri": "https://localhost:8080/"
        },
        "id": "79mwvT5Fd9Hc",
        "outputId": "95175677-838c-4108-c52d-9c275cf0dbe4"
      },
      "execution_count": 64,
      "outputs": [
        {
          "output_type": "stream",
          "name": "stdout",
          "text": [
            "    Supply\n",
            "55      18\n",
            "88      31\n",
            "26      51\n",
            "42      42\n",
            "69      25\n",
            "..     ...\n",
            "60      56\n",
            "71      45\n",
            "14      51\n",
            "92      32\n",
            "51      49\n",
            "\n",
            "[80 rows x 1 columns]\n"
          ]
        }
      ]
    },
    {
      "cell_type": "markdown",
      "source": [
        "## Model Training"
      ],
      "metadata": {
        "id": "mK83UyQIBy8J"
      }
    },
    {
      "cell_type": "markdown",
      "source": [
        "Initializing algoritham for training model"
      ],
      "metadata": {
        "id": "rUFFaHxt7SFN"
      }
    },
    {
      "cell_type": "code",
      "source": [
        "model = LinearRegression()"
      ],
      "metadata": {
        "id": "QyOn3x_-2_7u"
      },
      "execution_count": 65,
      "outputs": []
    },
    {
      "cell_type": "markdown",
      "source": [
        "Model Training"
      ],
      "metadata": {
        "id": "AYgtqVMjAwJ4"
      }
    },
    {
      "cell_type": "code",
      "source": [
        "model.fit(X_train,y_train)"
      ],
      "metadata": {
        "id": "naJKJQKc8pgr",
        "colab": {
          "base_uri": "https://localhost:8080/",
          "height": 74
        },
        "outputId": "ae912726-7a34-437c-ffb1-1ef3d0426579"
      },
      "execution_count": 66,
      "outputs": [
        {
          "output_type": "execute_result",
          "data": {
            "text/plain": [
              "LinearRegression()"
            ],
            "text/html": [
              "<style>#sk-container-id-5 {color: black;background-color: white;}#sk-container-id-5 pre{padding: 0;}#sk-container-id-5 div.sk-toggleable {background-color: white;}#sk-container-id-5 label.sk-toggleable__label {cursor: pointer;display: block;width: 100%;margin-bottom: 0;padding: 0.3em;box-sizing: border-box;text-align: center;}#sk-container-id-5 label.sk-toggleable__label-arrow:before {content: \"▸\";float: left;margin-right: 0.25em;color: #696969;}#sk-container-id-5 label.sk-toggleable__label-arrow:hover:before {color: black;}#sk-container-id-5 div.sk-estimator:hover label.sk-toggleable__label-arrow:before {color: black;}#sk-container-id-5 div.sk-toggleable__content {max-height: 0;max-width: 0;overflow: hidden;text-align: left;background-color: #f0f8ff;}#sk-container-id-5 div.sk-toggleable__content pre {margin: 0.2em;color: black;border-radius: 0.25em;background-color: #f0f8ff;}#sk-container-id-5 input.sk-toggleable__control:checked~div.sk-toggleable__content {max-height: 200px;max-width: 100%;overflow: auto;}#sk-container-id-5 input.sk-toggleable__control:checked~label.sk-toggleable__label-arrow:before {content: \"▾\";}#sk-container-id-5 div.sk-estimator input.sk-toggleable__control:checked~label.sk-toggleable__label {background-color: #d4ebff;}#sk-container-id-5 div.sk-label input.sk-toggleable__control:checked~label.sk-toggleable__label {background-color: #d4ebff;}#sk-container-id-5 input.sk-hidden--visually {border: 0;clip: rect(1px 1px 1px 1px);clip: rect(1px, 1px, 1px, 1px);height: 1px;margin: -1px;overflow: hidden;padding: 0;position: absolute;width: 1px;}#sk-container-id-5 div.sk-estimator {font-family: monospace;background-color: #f0f8ff;border: 1px dotted black;border-radius: 0.25em;box-sizing: border-box;margin-bottom: 0.5em;}#sk-container-id-5 div.sk-estimator:hover {background-color: #d4ebff;}#sk-container-id-5 div.sk-parallel-item::after {content: \"\";width: 100%;border-bottom: 1px solid gray;flex-grow: 1;}#sk-container-id-5 div.sk-label:hover label.sk-toggleable__label {background-color: #d4ebff;}#sk-container-id-5 div.sk-serial::before {content: \"\";position: absolute;border-left: 1px solid gray;box-sizing: border-box;top: 0;bottom: 0;left: 50%;z-index: 0;}#sk-container-id-5 div.sk-serial {display: flex;flex-direction: column;align-items: center;background-color: white;padding-right: 0.2em;padding-left: 0.2em;position: relative;}#sk-container-id-5 div.sk-item {position: relative;z-index: 1;}#sk-container-id-5 div.sk-parallel {display: flex;align-items: stretch;justify-content: center;background-color: white;position: relative;}#sk-container-id-5 div.sk-item::before, #sk-container-id-5 div.sk-parallel-item::before {content: \"\";position: absolute;border-left: 1px solid gray;box-sizing: border-box;top: 0;bottom: 0;left: 50%;z-index: -1;}#sk-container-id-5 div.sk-parallel-item {display: flex;flex-direction: column;z-index: 1;position: relative;background-color: white;}#sk-container-id-5 div.sk-parallel-item:first-child::after {align-self: flex-end;width: 50%;}#sk-container-id-5 div.sk-parallel-item:last-child::after {align-self: flex-start;width: 50%;}#sk-container-id-5 div.sk-parallel-item:only-child::after {width: 0;}#sk-container-id-5 div.sk-dashed-wrapped {border: 1px dashed gray;margin: 0 0.4em 0.5em 0.4em;box-sizing: border-box;padding-bottom: 0.4em;background-color: white;}#sk-container-id-5 div.sk-label label {font-family: monospace;font-weight: bold;display: inline-block;line-height: 1.2em;}#sk-container-id-5 div.sk-label-container {text-align: center;}#sk-container-id-5 div.sk-container {/* jupyter's `normalize.less` sets `[hidden] { display: none; }` but bootstrap.min.css set `[hidden] { display: none !important; }` so we also need the `!important` here to be able to override the default hidden behavior on the sphinx rendered scikit-learn.org. See: https://github.com/scikit-learn/scikit-learn/issues/21755 */display: inline-block !important;position: relative;}#sk-container-id-5 div.sk-text-repr-fallback {display: none;}</style><div id=\"sk-container-id-5\" class=\"sk-top-container\"><div class=\"sk-text-repr-fallback\"><pre>LinearRegression()</pre><b>In a Jupyter environment, please rerun this cell to show the HTML representation or trust the notebook. <br />On GitHub, the HTML representation is unable to render, please try loading this page with nbviewer.org.</b></div><div class=\"sk-container\" hidden><div class=\"sk-item\"><div class=\"sk-estimator sk-toggleable\"><input class=\"sk-toggleable__control sk-hidden--visually\" id=\"sk-estimator-id-5\" type=\"checkbox\" checked><label for=\"sk-estimator-id-5\" class=\"sk-toggleable__label sk-toggleable__label-arrow\">LinearRegression</label><div class=\"sk-toggleable__content\"><pre>LinearRegression()</pre></div></div></div></div></div>"
            ]
          },
          "metadata": {},
          "execution_count": 66
        }
      ]
    },
    {
      "cell_type": "code",
      "source": [
        "y_pred = model.predict(X_test)\n",
        "print(y_pred);"
      ],
      "metadata": {
        "colab": {
          "base_uri": "https://localhost:8080/"
        },
        "id": "FeyTGD2H3whS",
        "outputId": "36d5524e-e5d9-425f-cb33-4e53d773f44b"
      },
      "execution_count": 67,
      "outputs": [
        {
          "output_type": "stream",
          "name": "stdout",
          "text": [
            "[[61.88108544]\n",
            " [17.790891  ]\n",
            " [44.84623759]\n",
            " [28.81343961]\n",
            " [49.85648695]\n",
            " [21.7990905 ]\n",
            " [27.81138974]\n",
            " [63.88518518]\n",
            " [40.83803809]\n",
            " [14.78474138]\n",
            " [29.81548948]\n",
            " [28.81343961]\n",
            " [38.83393834]\n",
            " [40.83803809]\n",
            " [64.88723506]\n",
            " [37.83188847]\n",
            " [14.78474138]\n",
            " [50.85853683]\n",
            " [57.87288594]\n",
            " [53.86468645]]\n"
          ]
        }
      ]
    },
    {
      "cell_type": "markdown",
      "source": [
        "## Model Testing"
      ],
      "metadata": {
        "id": "IZFcVYeHB_ao"
      }
    },
    {
      "cell_type": "code",
      "source": [
        "from sklearn.metrics import mean_absolute_error\n",
        "mae = mean_absolute_error(y_test, y_pred)\n",
        "print(f\"Mean Absolute Error: {mae}\")"
      ],
      "metadata": {
        "id": "RBsNA9LfKd6D",
        "colab": {
          "base_uri": "https://localhost:8080/"
        },
        "outputId": "da963ac2-a56f-4cc6-8c07-a9bb989c5944"
      },
      "execution_count": 89,
      "outputs": [
        {
          "output_type": "stream",
          "name": "stdout",
          "text": [
            "Predicted Value: 0.7760612577154136\n"
          ]
        }
      ]
    },
    {
      "cell_type": "code",
      "source": [
        "from sklearn.metrics import mean_squared_error\n",
        "mse = mean_squared_error(y_test, y_pred)\n",
        "print(f\"Mean Squared Error: {mse}\")"
      ],
      "metadata": {
        "colab": {
          "base_uri": "https://localhost:8080/"
        },
        "id": "awqmGh3Sjxat",
        "outputId": "c745df50-c246-4fea-eb1a-bd0323e30e63"
      },
      "execution_count": 92,
      "outputs": [
        {
          "output_type": "stream",
          "name": "stdout",
          "text": [
            "Mean Squared Error: 0.7814579738246633\n"
          ]
        }
      ]
    },
    {
      "cell_type": "code",
      "source": [
        "from sklearn.metrics import r2_score\n",
        "\n",
        "r2 = r2_score(y_test, y_pred)\n",
        "print(f\"R-squared (R2) Score: {r2:.2f}\")"
      ],
      "metadata": {
        "colab": {
          "base_uri": "https://localhost:8080/"
        },
        "id": "Kp9v5jj9koy6",
        "outputId": "95d27623-52e8-4438-c2a9-535988d8182f"
      },
      "execution_count": 93,
      "outputs": [
        {
          "output_type": "stream",
          "name": "stdout",
          "text": [
            "R-squared (R2) Score: 1.00\n"
          ]
        }
      ]
    },
    {
      "cell_type": "code",
      "source": [
        "# Save the model to a file\n",
        "model_filename = \"/content/drive/MyDrive/Colab Notebooks/telescope/supply_predict_model.pkl\"\n",
        "joblib.dump(model, model_filename)"
      ],
      "metadata": {
        "colab": {
          "base_uri": "https://localhost:8080/"
        },
        "id": "cw9dEX0A4CqV",
        "outputId": "358d5b34-193f-4eb6-9d1a-32702588bfb5"
      },
      "execution_count": 70,
      "outputs": [
        {
          "output_type": "execute_result",
          "data": {
            "text/plain": [
              "['/content/drive/MyDrive/Colab Notebooks/telescope/supply_predict_model.pkl']"
            ]
          },
          "metadata": {},
          "execution_count": 70
        }
      ]
    },
    {
      "cell_type": "markdown",
      "source": [
        "# Simple Python Console Application for manuel testing the trained model  "
      ],
      "metadata": {
        "id": "JMg_qbTvCief"
      }
    },
    {
      "cell_type": "markdown",
      "source": [
        "## Loading Model"
      ],
      "metadata": {
        "id": "GtnGM58_C799"
      }
    },
    {
      "cell_type": "code",
      "source": [
        "loaded_model = joblib.load(\"/content/drive/MyDrive/Colab Notebooks/telescope/supply_predict_model.pkl\")"
      ],
      "metadata": {
        "id": "vKLpxk2eC3oO"
      },
      "execution_count": 79,
      "outputs": []
    },
    {
      "cell_type": "markdown",
      "source": [
        "## Testing model"
      ],
      "metadata": {
        "id": "PUg4_R1_DmW2"
      }
    },
    {
      "cell_type": "code",
      "source": [
        "user_input = np.array([[20]])"
      ],
      "metadata": {
        "id": "HylGAyBNDrh5"
      },
      "execution_count": 80,
      "outputs": []
    },
    {
      "cell_type": "code",
      "source": [
        "prediction = loaded_model.predict(user_input)\n",
        "print(f\"Predicted Value: {prediction[0]}\")"
      ],
      "metadata": {
        "colab": {
          "base_uri": "https://localhost:8080/"
        },
        "id": "UoxlGB6JEPN9",
        "outputId": "92dd2dd8-672f-47fe-9781-c313e180a4f7"
      },
      "execution_count": 81,
      "outputs": [
        {
          "output_type": "stream",
          "name": "stdout",
          "text": [
            "Predicted Value: [24.80524012]\n"
          ]
        },
        {
          "output_type": "stream",
          "name": "stderr",
          "text": [
            "/usr/local/lib/python3.10/dist-packages/sklearn/base.py:439: UserWarning: X does not have valid feature names, but LinearRegression was fitted with feature names\n",
            "  warnings.warn(\n"
          ]
        }
      ]
    }
  ]
}